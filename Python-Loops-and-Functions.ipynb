{
 "cells": [
  {
   "cell_type": "markdown",
   "metadata": {},
   "source": [
    "# Python Pre-Work Review - Loops and Functions\n",
    "\n",
    "Your first pair programming exercise!\n",
    "\n",
    "Feel like you missed what pair programming is supposed to be all about? [Check out the writeup in the Recipe for Success document](https://docs.google.com/document/d/1ralB2OeWVMZdWWG0mf8U7-cy-M5Xe01toxbmQGlB1AY/edit#heading=h.hsv76gt73puu)"
   ]
  },
  {
   "cell_type": "markdown",
   "metadata": {},
   "source": [
    "## Learning goals:\n",
    "\n",
    "Today we will:\n",
    "\n",
    "- Revisit what we can do with for loops, using dictionaries\n",
    "- Recognize function arguments, and write functions both with and without arguments (and with default values!)\n",
    "- Write functions that build up from for loops\n",
    "\n",
    "Some new things we're bringing up that may not have been covered before:\n",
    "\n",
    "- using `.items()` with dictionaries to call both the dictionary keys and the dictionary values\n",
    "- formatting f-strings to print a certain number of decimal places\n",
    "\n",
    "## Scenario\n",
    "\n",
    "![cat pushing a shopping cart](images/cat_shopping_cart.jpg)\n",
    "\n",
    "Who has ever gotten to the cash register at Costco, or Whole Foods, or Target, then seen the total and asked, _\"How did I spend that much?!\"_ \n",
    "\n",
    "We have a grocery list of items and prices, but we do not have infinite money (unfortunately), so let's use Python help us manage our shopping and expenses."
   ]
  },
  {
   "cell_type": "markdown",
   "metadata": {},
   "source": [
    "### For Loops:\n",
    "\n",
    "Let's revisit for loops. Below, we have a list of items, and a separate list of costs. Let's build up to where we can write a loop to print each item, its cost, and the total of our grocery list."
   ]
  },
  {
   "cell_type": "code",
   "execution_count": 61,
   "metadata": {},
   "outputs": [],
   "source": [
    "# Run this cell without changes\n",
    "# Here is our grocery list\n",
    "items = ['cheese', 'whole milk', 'kefir', 'tofu four-pack', 'kale', 'oranges', \n",
    "         'ham', \"ben & jerry's\"]\n",
    "\n",
    "# Here is our cost list\n",
    "cost = [2.79, 3.42, 4.50, 12.00, 2.75, 3.64, 25.00, 5.29]"
   ]
  },
  {
   "cell_type": "markdown",
   "metadata": {},
   "source": [
    "Let's make that a little nicer looking. \n",
    "\n",
    "Create a `for` loop that prints each item in the list with \"I need to buy: \" + item:"
   ]
  },
  {
   "cell_type": "code",
   "execution_count": 62,
   "metadata": {},
   "outputs": [
    {
     "name": "stdout",
     "output_type": "stream",
     "text": [
      "I need to buy: cheese\n",
      "I need to buy: whole milk\n",
      "I need to buy: kefir\n",
      "I need to buy: tofu four-pack\n",
      "I need to buy: kale\n",
      "I need to buy: oranges\n",
      "I need to buy: ham\n",
      "I need to buy: ben & jerry's\n"
     ]
    }
   ],
   "source": [
    "# Write your for loop\n",
    "for item in items:\n",
    "    print('I need to buy: ' + item)\n"
   ]
  },
  {
   "cell_type": "markdown",
   "metadata": {},
   "source": [
    "Okay, we want to work through a dictionary, so what can you do to convert those two lists to a single dictionary?\n",
    "\n",
    "(You can also write up that dictionary manually, that works too!)"
   ]
  },
  {
   "cell_type": "code",
   "execution_count": 63,
   "metadata": {},
   "outputs": [],
   "source": [
    "# Replace None with appropriate code to create your dictionary\n",
    "grocery_dict = dict(zip(items, cost))"
   ]
  },
  {
   "cell_type": "code",
   "execution_count": 64,
   "metadata": {
    "scrolled": true
   },
   "outputs": [
    {
     "data": {
      "text/plain": [
       "{'cheese': 2.79,\n",
       " 'whole milk': 3.42,\n",
       " 'kefir': 4.5,\n",
       " 'tofu four-pack': 12.0,\n",
       " 'kale': 2.75,\n",
       " 'oranges': 3.64,\n",
       " 'ham': 25.0,\n",
       " \"ben & jerry's\": 5.29}"
      ]
     },
     "execution_count": 64,
     "metadata": {},
     "output_type": "execute_result"
    }
   ],
   "source": [
    "# Check your work\n",
    "grocery_dict"
   ]
  },
  {
   "cell_type": "markdown",
   "metadata": {},
   "source": [
    "So let's now add the total grocery bill at the end for these items:\n",
    "\n",
    "(use the dictionary's values, not the cost list from before!)"
   ]
  },
  {
   "cell_type": "code",
   "execution_count": 69,
   "metadata": {
    "scrolled": true
   },
   "outputs": [
    {
     "name": "stdout",
     "output_type": "stream",
     "text": [
      "59.39\n"
     ]
    }
   ],
   "source": [
    "# Calculate your sum\n",
    "total = 0\n",
    "for number in grocery_dict.values():\n",
    "    total += number\n",
    "    \n",
    "print(total)    "
   ]
  },
  {
   "cell_type": "markdown",
   "metadata": {},
   "source": [
    "Gah! What if we're trying to be frugal?\n",
    "\n",
    "One way to do that would be to not buy any item that's more expensive than $10.\n",
    "\n",
    "Here's a hint: `.items()` will create two variables from a dictionary, one with the keys and one with the values. Let's use `.items()`, conditionals, and a for loop to only add items that are cheaper then $10 to our total:"
   ]
  },
  {
   "cell_type": "code",
   "execution_count": 70,
   "metadata": {
    "scrolled": true
   },
   "outputs": [],
   "source": [
    "# Code here to only add items to our total if they're <$10\n",
    "frugal_sum = 0\n",
    "for key, value in grocery_dict.items():\n",
    "    if value < 10:\n",
    "        frugal_sum += value\n",
    "    \n"
   ]
  },
  {
   "cell_type": "code",
   "execution_count": 67,
   "metadata": {},
   "outputs": [
    {
     "name": "stdout",
     "output_type": "stream",
     "text": [
      "22.39\n"
     ]
    }
   ],
   "source": [
    "# Check your work\n",
    "print(frugal_sum)"
   ]
  },
  {
   "cell_type": "markdown",
   "metadata": {},
   "source": [
    "### Functions:\n",
    "\n",
    "Just a note - it's always best practice to follow [PEP-8](https://www.python.org/dev/peps/pep-0008/) standards when writing Python code. The [standard for function names](https://www.python.org/dev/peps/pep-0008/#function-and-variable-names) is that they are lowercase, separated by underscores - same as variable names."
   ]
  },
  {
   "cell_type": "markdown",
   "metadata": {},
   "source": [
    "#### Quiz question!  `print` vs `return` ?\n",
    "\n",
    "Can you describe the difference between `print` and `return` as a function output? \n",
    "\n",
    "- \n"
   ]
  },
  {
   "cell_type": "markdown",
   "metadata": {},
   "source": [
    "#### Back to our shopping list:\n",
    "\n",
    "Adapt your shopping list's for loop into a function that takes a dictionary, where the key is the name of the item and the value is its cost, and only adds items if they are less than $10. \n",
    "\n",
    "It should return the total cost without items that cost more than $10."
   ]
  },
  {
   "cell_type": "code",
   "execution_count": 71,
   "metadata": {},
   "outputs": [],
   "source": [
    "# You may want to paste your previous for loop here\n",
    "frugal_sum = 0\n",
    "for key, value in grocery_dict.items():\n",
    "    if value < 10:\n",
    "        frugal_sum += value"
   ]
  },
  {
   "cell_type": "code",
   "execution_count": 72,
   "metadata": {},
   "outputs": [],
   "source": [
    "# Replace pass with the appropriate code\n",
    "def calc_frugal_total(dictionary):\n",
    "    '''\n",
    "    Returns a frugal grocery list sum, that only includes items that cost less\n",
    "    than $10\n",
    "    \n",
    "    Input: dictionary (expects key is item name, value is item cost)\n",
    "    Output: sum (float)\n",
    "    '''\n",
    "    total = 0\n",
    "    for key, value in dictionary.items():\n",
    "        if value < 10:\n",
    "            total += value\n",
    "    return total"
   ]
  },
  {
   "cell_type": "code",
   "execution_count": 73,
   "metadata": {},
   "outputs": [
    {
     "data": {
      "text/plain": [
       "22.39"
      ]
     },
     "execution_count": 73,
     "metadata": {},
     "output_type": "execute_result"
    }
   ],
   "source": [
    "# Run this cell without changes to check your work\n",
    "calc_frugal_total(grocery_dict)"
   ]
  },
  {
   "cell_type": "markdown",
   "metadata": {},
   "source": [
    "### Nested Dictionaries\n",
    "\n",
    "Here is a more robust shopping list of nested dictionaries:"
   ]
  },
  {
   "cell_type": "code",
   "execution_count": 74,
   "metadata": {},
   "outputs": [],
   "source": [
    "# Run this cell without changes\n",
    "shopping_dict = {'Groceries': {\"ben & jerry's\": 5.29, 'cheese': 2.79, \n",
    "                               'ham': 25.0, 'kale': 2.75, 'kefir': 4.5, \n",
    "                               'oranges': 3.64, 'tofu four-pack': 12.0, \n",
    "                               'whole milk': 3.42},\n",
    "                 'House Supplies': {'toilet paper pack': 16.50, \n",
    "                                    'clorox spray': 6.43, 'kleenex': 2.50, },\n",
    "                 'Pet Supplies': {'fancy grain-free kibble': 65.25, \n",
    "                                  'squeaky toy': 4.50, 'treats': 8.45}}"
   ]
  },
  {
   "cell_type": "markdown",
   "metadata": {},
   "source": [
    "Nested dictionaries call for nested for loops! Write a set of nested for loops that create a total grocery list, so we have just one list to take to the store and find what we need."
   ]
  },
  {
   "cell_type": "code",
   "execution_count": 75,
   "metadata": {},
   "outputs": [],
   "source": [
    "# Code to write your nested loops\n",
    "L = []\n",
    "for item in shopping_dict.values():\n",
    "    for i in item.keys():\n",
    "        L.append(i)\n"
   ]
  },
  {
   "cell_type": "code",
   "execution_count": 76,
   "metadata": {},
   "outputs": [
    {
     "name": "stdout",
     "output_type": "stream",
     "text": [
      "[\"ben & jerry's\", 'cheese', 'ham', 'kale', 'kefir', 'oranges', 'tofu four-pack', 'whole milk', 'toilet paper pack', 'clorox spray', 'kleenex', 'fancy grain-free kibble', 'squeaky toy', 'treats']\n"
     ]
    }
   ],
   "source": [
    "# Check your work\n",
    "print(L)"
   ]
  },
  {
   "cell_type": "markdown",
   "metadata": {},
   "source": [
    "Now let's turn that into a function that, when given nested dictionaries, returns a list of each item as our grocery list to take with us to the store. It should also print our expected total, so we know how much we expect to spend.\n",
    "\n",
    "Use [this link](https://stackoverflow.com/questions/45310254/fixed-digits-after-decimal-with-f-strings) for help in formatting the total to two decimal places using an f-string - not required, but it'll print out nicer!"
   ]
  },
  {
   "cell_type": "code",
   "execution_count": 85,
   "metadata": {},
   "outputs": [],
   "source": [
    "# Replace pass with appropriate code\n",
    "def write_grocery_list(nested_dict):\n",
    "    L = []\n",
    "    total = 0\n",
    "    for item in nested_dict.values():\n",
    "        for i in item.keys():\n",
    "            total += item[i]\n",
    "            L.append(i)\n",
    "    print(f\"The total amount is {total:.2f}\")\n",
    "    return L        "
   ]
  },
  {
   "cell_type": "code",
   "execution_count": 86,
   "metadata": {},
   "outputs": [
    {
     "name": "stdout",
     "output_type": "stream",
     "text": [
      "The total amount is 163.02\n"
     ]
    },
    {
     "data": {
      "text/plain": [
       "[\"ben & jerry's\",\n",
       " 'cheese',\n",
       " 'ham',\n",
       " 'kale',\n",
       " 'kefir',\n",
       " 'oranges',\n",
       " 'tofu four-pack',\n",
       " 'whole milk',\n",
       " 'toilet paper pack',\n",
       " 'clorox spray',\n",
       " 'kleenex',\n",
       " 'fancy grain-free kibble',\n",
       " 'squeaky toy',\n",
       " 'treats']"
      ]
     },
     "execution_count": 86,
     "metadata": {},
     "output_type": "execute_result"
    }
   ],
   "source": [
    "# Run this cell without changes to check your work\n",
    "write_grocery_list(shopping_dict)"
   ]
  },
  {
   "cell_type": "markdown",
   "metadata": {},
   "source": [
    "## Level Up:\n",
    "\n",
    "Adapt your grocery function to do the following:\n",
    "\n",
    "- flag expensive items that cost more than $20, and do not add them to your list\n",
    "\n",
    "- block items that will push the total cost above $50\n",
    "\n",
    "- print out the average cost per item on your list\n",
    "\n",
    "It should still take in a nested dictionary, and return your grocery list.\n",
    "\n",
    "**Extra bonus points:** add a [docstring](https://www.python.org/dev/peps/pep-0257/)! \n",
    "\n",
    "You can see an example of a docstring up above, where I used triple quotes (''') to write a multi-line string directly under where I defined my `calc_frugal_total` function. That multi-line string is a docstring, and you should get in the habit of using docstrings to describe expected behavior, as well as expected inputs and outputs, for your functions. Best part - after you've defined a function, you can call that docstring by running `help()` around your function, or by clicking into the parentheses after your function and clicking SHIFT+TAB in a juptyer notebook. Test it out!"
   ]
  },
  {
   "cell_type": "code",
   "execution_count": 130,
   "metadata": {},
   "outputs": [],
   "source": [
    "# Code your leveled-up function here\n",
    "def write_grocery_list(nested_dict):\n",
    "    '''\n",
    "    Returns a frugal grocery list (that only includes items that each cost less\n",
    "    than $20 and total shopping amount less than $50), \n",
    "    average cost per item and \n",
    "    total amount.\n",
    "    \n",
    "    Input: nested dictionary \n",
    "    Output: Grocery list, average cost per item, and total sum of that list\n",
    "    '''\n",
    "    L = []\n",
    "    P = []\n",
    "    total = 0\n",
    "    for category, shop_list in nested_dict.items():\n",
    "        for item, price in shop_list.items():\n",
    "            if price < 20:\n",
    "                if total > 50:\n",
    "                    pass\n",
    "                else:\n",
    "                    total += price\n",
    "                    P.append(price)\n",
    "                    L.append(item)\n",
    "                              \n",
    "    print(f\"The shopping list: {L}\"), \n",
    "    print(f\"The average cost per item: {P}\") \n",
    "    print( )\n",
    "    print(f\"The total amount: {total:.2f}\")\n",
    "    return "
   ]
  },
  {
   "cell_type": "code",
   "execution_count": 131,
   "metadata": {
    "scrolled": false
   },
   "outputs": [
    {
     "name": "stdout",
     "output_type": "stream",
     "text": [
      "The shopping list: [\"ben & jerry's\", 'cheese', 'kale', 'kefir', 'oranges', 'tofu four-pack', 'whole milk', 'toilet paper pack']\n",
      "The average cost per item: [5.29, 2.79, 2.75, 4.5, 3.64, 12.0, 3.42, 16.5]\n",
      "\n",
      "The total amount: 50.89\n"
     ]
    }
   ],
   "source": [
    "# Check your work\n",
    "write_grocery_list(shopping_dict)"
   ]
  },
  {
   "cell_type": "code",
   "execution_count": null,
   "metadata": {},
   "outputs": [],
   "source": []
  }
 ],
 "metadata": {
  "kernelspec": {
   "display_name": "Python 3",
   "language": "python",
   "name": "python3"
  },
  "language_info": {
   "codemirror_mode": {
    "name": "ipython",
    "version": 3
   },
   "file_extension": ".py",
   "mimetype": "text/x-python",
   "name": "python",
   "nbconvert_exporter": "python",
   "pygments_lexer": "ipython3",
   "version": "3.9.5"
  }
 },
 "nbformat": 4,
 "nbformat_minor": 2
}
